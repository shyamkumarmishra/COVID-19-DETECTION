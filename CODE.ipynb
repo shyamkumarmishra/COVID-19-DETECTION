{
 "cells": [
  {
   "cell_type": "markdown",
   "metadata": {},
   "source": [
    "# 1.Importing of Library"
   ]
  },
  {
   "cell_type": "code",
   "execution_count": 493,
   "metadata": {},
   "outputs": [],
   "source": [
    "import numpy as np\n",
    "import pandas as pd\n",
    "import matplotlib.pyplot as plt\n",
    "import seaborn as sns\n",
    "from sklearn.model_selection import train_test_split\n",
    "from sklearn.model_selection import KFold\n",
    "from sklearn.model_selection import cross_val_score\n",
    "from sklearn.model_selection import GridSearchCV\n",
    "from sklearn.metrics import accuracy_score,confusion_matrix,classification_report\n",
    "from sklearn.metrics import recall_score as rs\n",
    "from sklearn.metrics import precision_score as ps\n",
    "from sklearn.metrics import f1_score as fs\n",
    "from sklearn.metrics import plot_confusion_matrix\n",
    "%matplotlib inline\n",
    "import warnings\n",
    "warnings.filterwarnings('ignore')\n",
    "from sklearn.preprocessing import LabelEncoder\n",
    "encoder =LabelEncoder()"
   ]
  },
  {
   "cell_type": "markdown",
   "metadata": {},
   "source": [
    "# 2.Loading of Dataset"
   ]
  },
  {
   "cell_type": "code",
   "execution_count": 494,
   "metadata": {},
   "outputs": [],
   "source": [
    "data=pd.read_csv('corona_tested_individuals_subset_ver_00100.csv')"
   ]
  },
  {
   "cell_type": "markdown",
   "metadata": {},
   "source": [
    "# 3.Data Cleaning"
   ]
  },
  {
   "cell_type": "code",
   "execution_count": 495,
   "metadata": {
    "scrolled": true
   },
   "outputs": [
    {
     "data": {
      "text/html": [
       "<div>\n",
       "<style scoped>\n",
       "    .dataframe tbody tr th:only-of-type {\n",
       "        vertical-align: middle;\n",
       "    }\n",
       "\n",
       "    .dataframe tbody tr th {\n",
       "        vertical-align: top;\n",
       "    }\n",
       "\n",
       "    .dataframe thead th {\n",
       "        text-align: right;\n",
       "    }\n",
       "</style>\n",
       "<table border=\"1\" class=\"dataframe\">\n",
       "  <thead>\n",
       "    <tr style=\"text-align: right;\">\n",
       "      <th></th>\n",
       "      <th>test_date</th>\n",
       "      <th>cough</th>\n",
       "      <th>fever</th>\n",
       "      <th>sore_throat</th>\n",
       "      <th>shortness_of_breath</th>\n",
       "      <th>head_ache</th>\n",
       "      <th>corona_result</th>\n",
       "      <th>age_60_and_above</th>\n",
       "      <th>gender</th>\n",
       "      <th>test_indication</th>\n",
       "    </tr>\n",
       "  </thead>\n",
       "  <tbody>\n",
       "    <tr>\n",
       "      <th>0</th>\n",
       "      <td>2021-05-16</td>\n",
       "      <td>0</td>\n",
       "      <td>0</td>\n",
       "      <td>0</td>\n",
       "      <td>0</td>\n",
       "      <td>0</td>\n",
       "      <td>אחר</td>\n",
       "      <td>NaN</td>\n",
       "      <td>NaN</td>\n",
       "      <td>Other</td>\n",
       "    </tr>\n",
       "    <tr>\n",
       "      <th>1</th>\n",
       "      <td>2021-05-16</td>\n",
       "      <td>0</td>\n",
       "      <td>0</td>\n",
       "      <td>0</td>\n",
       "      <td>0</td>\n",
       "      <td>0</td>\n",
       "      <td>שלילי</td>\n",
       "      <td>NaN</td>\n",
       "      <td>NaN</td>\n",
       "      <td>Other</td>\n",
       "    </tr>\n",
       "    <tr>\n",
       "      <th>2</th>\n",
       "      <td>2021-05-16</td>\n",
       "      <td>0</td>\n",
       "      <td>0</td>\n",
       "      <td>0</td>\n",
       "      <td>0</td>\n",
       "      <td>0</td>\n",
       "      <td>שלילי</td>\n",
       "      <td>NaN</td>\n",
       "      <td>NaN</td>\n",
       "      <td>Other</td>\n",
       "    </tr>\n",
       "    <tr>\n",
       "      <th>3</th>\n",
       "      <td>2021-05-16</td>\n",
       "      <td>0</td>\n",
       "      <td>0</td>\n",
       "      <td>0</td>\n",
       "      <td>0</td>\n",
       "      <td>0</td>\n",
       "      <td>שלילי</td>\n",
       "      <td>NaN</td>\n",
       "      <td>NaN</td>\n",
       "      <td>Other</td>\n",
       "    </tr>\n",
       "    <tr>\n",
       "      <th>4</th>\n",
       "      <td>2021-05-16</td>\n",
       "      <td>0</td>\n",
       "      <td>0</td>\n",
       "      <td>0</td>\n",
       "      <td>0</td>\n",
       "      <td>0</td>\n",
       "      <td>שלילי</td>\n",
       "      <td>NaN</td>\n",
       "      <td>NaN</td>\n",
       "      <td>Other</td>\n",
       "    </tr>\n",
       "  </tbody>\n",
       "</table>\n",
       "</div>"
      ],
      "text/plain": [
       "    test_date  cough  fever  sore_throat  shortness_of_breath  head_ache  \\\n",
       "0  2021-05-16      0      0            0                    0          0   \n",
       "1  2021-05-16      0      0            0                    0          0   \n",
       "2  2021-05-16      0      0            0                    0          0   \n",
       "3  2021-05-16      0      0            0                    0          0   \n",
       "4  2021-05-16      0      0            0                    0          0   \n",
       "\n",
       "  corona_result  age_60_and_above gender test_indication  \n",
       "0           אחר               NaN    NaN           Other  \n",
       "1         שלילי               NaN    NaN           Other  \n",
       "2         שלילי               NaN    NaN           Other  \n",
       "3         שלילי               NaN    NaN           Other  \n",
       "4         שלילי               NaN    NaN           Other  "
      ]
     },
     "execution_count": 495,
     "metadata": {},
     "output_type": "execute_result"
    }
   ],
   "source": [
    "data.head()"
   ]
  },
  {
   "cell_type": "code",
   "execution_count": 496,
   "metadata": {},
   "outputs": [
    {
     "data": {
      "text/plain": [
       "(240310, 10)"
      ]
     },
     "execution_count": 496,
     "metadata": {},
     "output_type": "execute_result"
    }
   ],
   "source": [
    "data.shape"
   ]
  },
  {
   "cell_type": "code",
   "execution_count": 497,
   "metadata": {
    "scrolled": false
   },
   "outputs": [
    {
     "data": {
      "text/plain": [
       "test_date                   0\n",
       "cough                       0\n",
       "fever                       0\n",
       "sore_throat                 0\n",
       "shortness_of_breath         0\n",
       "head_ache                   0\n",
       "corona_result               0\n",
       "age_60_and_above       240310\n",
       "gender                 100653\n",
       "test_indication             0\n",
       "dtype: int64"
      ]
     },
     "execution_count": 497,
     "metadata": {},
     "output_type": "execute_result"
    }
   ],
   "source": [
    "data.isnull().sum()"
   ]
  },
  {
   "cell_type": "code",
   "execution_count": 498,
   "metadata": {},
   "outputs": [
    {
     "data": {
      "image/png": "[encoded data removed]",
      "text/plain": [
       "<Figure size 432x288 with 2 Axes>"
      ]
     },
     "metadata": {
      "needs_background": "light"
     },
     "output_type": "display_data"
    }
   ],
   "source": [
    "sns.heatmap(data.isnull(),yticklabels=False)\n",
    "plt.show()"
   ]
  },
  {
   "cell_type": "code",
   "execution_count": 499,
   "metadata": {},
   "outputs": [],
   "source": [
    "data.drop(['age_60_and_above'],axis=1,inplace=True)\n",
    "data.drop(['test_date'],axis=1,inplace=True)"
   ]
  },
  {
   "cell_type": "code",
   "execution_count": 500,
   "metadata": {},
   "outputs": [],
   "source": [
    "data=data.dropna()"
   ]
  },
  {
   "cell_type": "code",
   "execution_count": 501,
   "metadata": {},
   "outputs": [
    {
     "data": {
      "text/plain": [
       "cough                  0\n",
       "fever                  0\n",
       "sore_throat            0\n",
       "shortness_of_breath    0\n",
       "head_ache              0\n",
       "corona_result          0\n",
       "gender                 0\n",
       "test_indication        0\n",
       "dtype: int64"
      ]
     },
     "execution_count": 501,
     "metadata": {},
     "output_type": "execute_result"
    }
   ],
   "source": [
    "data.isnull().sum()"
   ]
  },
  {
   "cell_type": "code",
   "execution_count": 502,
   "metadata": {},
   "outputs": [
    {
     "data": {
      "text/plain": [
       "שלילי    134707\n",
       "אחר        4689\n",
       "חיובי       261\n",
       "Name: corona_result, dtype: int64"
      ]
     },
     "execution_count": 502,
     "metadata": {},
     "output_type": "execute_result"
    }
   ],
   "source": [
    "data['corona_result'].value_counts()"
   ]
  },
  {
   "cell_type": "code",
   "execution_count": 503,
   "metadata": {},
   "outputs": [
    {
     "data": {
      "text/plain": [
       "נקבה    74159\n",
       "זכר     65498\n",
       "Name: gender, dtype: int64"
      ]
     },
     "execution_count": 503,
     "metadata": {},
     "output_type": "execute_result"
    }
   ],
   "source": [
    "data['gender'].value_counts()"
   ]
  },
  {
   "cell_type": "code",
   "execution_count": 504,
   "metadata": {},
   "outputs": [],
   "source": [
    "data['corona_result'].replace('שלילי','Negative',inplace=True)\n",
    "data['corona_result'].replace('חיובי','Positive',inplace=True)\n",
    "data['corona_result'].replace('אחר','Other',inplace=True)"
   ]
  },
  {
   "cell_type": "code",
   "execution_count": 505,
   "metadata": {},
   "outputs": [],
   "source": [
    "data['gender'].replace('נקבה','Female',inplace=True)\n",
    "data['gender'].replace('זכר','Male',inplace=True)"
   ]
  },
  {
   "cell_type": "code",
   "execution_count": 506,
   "metadata": {},
   "outputs": [
    {
     "data": {
      "text/plain": [
       "(139657, 8)"
      ]
     },
     "execution_count": 506,
     "metadata": {},
     "output_type": "execute_result"
    }
   ],
   "source": [
    "data.shape"
   ]
  },
  {
   "cell_type": "code",
   "execution_count": 507,
   "metadata": {},
   "outputs": [
    {
     "data": {
      "text/plain": [
       "Negative    134707\n",
       "Other         4689\n",
       "Positive       261\n",
       "Name: corona_result, dtype: int64"
      ]
     },
     "execution_count": 507,
     "metadata": {},
     "output_type": "execute_result"
    }
   ],
   "source": [
    "data['corona_result'].value_counts()"
   ]
  },
  {
   "cell_type": "code",
   "execution_count": 508,
   "metadata": {},
   "outputs": [],
   "source": [
    "data=data[data['corona_result']!='Other']"
   ]
  },
  {
   "cell_type": "code",
   "execution_count": 509,
   "metadata": {},
   "outputs": [
    {
     "name": "stdout",
     "output_type": "stream",
     "text": [
      "Attribute Name: cough\n",
      "------------------\n",
      "0    132476\n",
      "1      2492\n",
      "Name: cough, dtype: int64\n",
      "--------------------\n",
      "Attribute Name: fever\n",
      "------------------\n",
      "0    133142\n",
      "1      1826\n",
      "Name: fever, dtype: int64\n",
      "--------------------\n",
      "Attribute Name: sore_throat\n",
      "------------------\n",
      "0    134302\n",
      "1       666\n",
      "Name: sore_throat, dtype: int64\n",
      "--------------------\n",
      "Attribute Name: shortness_of_breath\n",
      "------------------\n",
      "0    134766\n",
      "1       202\n",
      "Name: shortness_of_breath, dtype: int64\n",
      "--------------------\n",
      "Attribute Name: head_ache\n",
      "------------------\n",
      "0    133776\n",
      "1      1192\n",
      "Name: head_ache, dtype: int64\n",
      "--------------------\n",
      "Attribute Name: corona_result\n",
      "------------------\n",
      "Negative    134707\n",
      "Positive       261\n",
      "Name: corona_result, dtype: int64\n",
      "--------------------\n",
      "Attribute Name: gender\n",
      "------------------\n",
      "Female    71245\n",
      "Male      63723\n",
      "Name: gender, dtype: int64\n",
      "--------------------\n",
      "Attribute Name: test_indication\n",
      "------------------\n",
      "Other                     131792\n",
      "Contact with confirmed      2707\n",
      "Abroad                       469\n",
      "Name: test_indication, dtype: int64\n",
      "--------------------\n"
     ]
    }
   ],
   "source": [
    "for i in data.columns:\n",
    "    print('Attribute Name:',i)\n",
    "    print(\"------------------\")\n",
    "    print(data[i].value_counts())\n",
    "    print('--------------------')"
   ]
  },
  {
   "cell_type": "code",
   "execution_count": 510,
   "metadata": {},
   "outputs": [
    {
     "data": {
      "text/plain": [
       "(134968, 8)"
      ]
     },
     "execution_count": 510,
     "metadata": {},
     "output_type": "execute_result"
    }
   ],
   "source": [
    "data.shape"
   ]
  },
  {
   "cell_type": "code",
   "execution_count": 511,
   "metadata": {},
   "outputs": [
    {
     "data": {
      "text/html": [
       "<div>\n",
       "<style scoped>\n",
       "    .dataframe tbody tr th:only-of-type {\n",
       "        vertical-align: middle;\n",
       "    }\n",
       "\n",
       "    .dataframe tbody tr th {\n",
       "        vertical-align: top;\n",
       "    }\n",
       "\n",
       "    .dataframe thead th {\n",
       "        text-align: right;\n",
       "    }\n",
       "</style>\n",
       "<table border=\"1\" class=\"dataframe\">\n",
       "  <thead>\n",
       "    <tr style=\"text-align: right;\">\n",
       "      <th></th>\n",
       "      <th>cough</th>\n",
       "      <th>fever</th>\n",
       "      <th>sore_throat</th>\n",
       "      <th>shortness_of_breath</th>\n",
       "      <th>head_ache</th>\n",
       "      <th>corona_result</th>\n",
       "      <th>gender</th>\n",
       "      <th>test_indication</th>\n",
       "    </tr>\n",
       "  </thead>\n",
       "  <tbody>\n",
       "    <tr>\n",
       "      <th>88408</th>\n",
       "      <td>1</td>\n",
       "      <td>0</td>\n",
       "      <td>0</td>\n",
       "      <td>0</td>\n",
       "      <td>0</td>\n",
       "      <td>Negative</td>\n",
       "      <td>Male</td>\n",
       "      <td>Other</td>\n",
       "    </tr>\n",
       "    <tr>\n",
       "      <th>88409</th>\n",
       "      <td>0</td>\n",
       "      <td>0</td>\n",
       "      <td>0</td>\n",
       "      <td>0</td>\n",
       "      <td>0</td>\n",
       "      <td>Negative</td>\n",
       "      <td>Female</td>\n",
       "      <td>Other</td>\n",
       "    </tr>\n",
       "    <tr>\n",
       "      <th>88410</th>\n",
       "      <td>0</td>\n",
       "      <td>0</td>\n",
       "      <td>0</td>\n",
       "      <td>0</td>\n",
       "      <td>0</td>\n",
       "      <td>Negative</td>\n",
       "      <td>Female</td>\n",
       "      <td>Other</td>\n",
       "    </tr>\n",
       "    <tr>\n",
       "      <th>88411</th>\n",
       "      <td>0</td>\n",
       "      <td>0</td>\n",
       "      <td>0</td>\n",
       "      <td>0</td>\n",
       "      <td>0</td>\n",
       "      <td>Negative</td>\n",
       "      <td>Female</td>\n",
       "      <td>Other</td>\n",
       "    </tr>\n",
       "    <tr>\n",
       "      <th>88412</th>\n",
       "      <td>0</td>\n",
       "      <td>0</td>\n",
       "      <td>0</td>\n",
       "      <td>0</td>\n",
       "      <td>0</td>\n",
       "      <td>Negative</td>\n",
       "      <td>Male</td>\n",
       "      <td>Other</td>\n",
       "    </tr>\n",
       "    <tr>\n",
       "      <th>88413</th>\n",
       "      <td>0</td>\n",
       "      <td>0</td>\n",
       "      <td>0</td>\n",
       "      <td>0</td>\n",
       "      <td>0</td>\n",
       "      <td>Negative</td>\n",
       "      <td>Male</td>\n",
       "      <td>Other</td>\n",
       "    </tr>\n",
       "    <tr>\n",
       "      <th>88414</th>\n",
       "      <td>0</td>\n",
       "      <td>0</td>\n",
       "      <td>0</td>\n",
       "      <td>0</td>\n",
       "      <td>0</td>\n",
       "      <td>Negative</td>\n",
       "      <td>Female</td>\n",
       "      <td>Other</td>\n",
       "    </tr>\n",
       "    <tr>\n",
       "      <th>88415</th>\n",
       "      <td>0</td>\n",
       "      <td>0</td>\n",
       "      <td>0</td>\n",
       "      <td>0</td>\n",
       "      <td>0</td>\n",
       "      <td>Negative</td>\n",
       "      <td>Female</td>\n",
       "      <td>Other</td>\n",
       "    </tr>\n",
       "    <tr>\n",
       "      <th>88416</th>\n",
       "      <td>0</td>\n",
       "      <td>0</td>\n",
       "      <td>0</td>\n",
       "      <td>0</td>\n",
       "      <td>0</td>\n",
       "      <td>Negative</td>\n",
       "      <td>Male</td>\n",
       "      <td>Other</td>\n",
       "    </tr>\n",
       "    <tr>\n",
       "      <th>88417</th>\n",
       "      <td>0</td>\n",
       "      <td>0</td>\n",
       "      <td>0</td>\n",
       "      <td>0</td>\n",
       "      <td>0</td>\n",
       "      <td>Negative</td>\n",
       "      <td>Female</td>\n",
       "      <td>Other</td>\n",
       "    </tr>\n",
       "  </tbody>\n",
       "</table>\n",
       "</div>"
      ],
      "text/plain": [
       "       cough  fever  sore_throat  shortness_of_breath  head_ache  \\\n",
       "88408      1      0            0                    0          0   \n",
       "88409      0      0            0                    0          0   \n",
       "88410      0      0            0                    0          0   \n",
       "88411      0      0            0                    0          0   \n",
       "88412      0      0            0                    0          0   \n",
       "88413      0      0            0                    0          0   \n",
       "88414      0      0            0                    0          0   \n",
       "88415      0      0            0                    0          0   \n",
       "88416      0      0            0                    0          0   \n",
       "88417      0      0            0                    0          0   \n",
       "\n",
       "      corona_result  gender test_indication  \n",
       "88408      Negative    Male           Other  \n",
       "88409      Negative  Female           Other  \n",
       "88410      Negative  Female           Other  \n",
       "88411      Negative  Female           Other  \n",
       "88412      Negative    Male           Other  \n",
       "88413      Negative    Male           Other  \n",
       "88414      Negative  Female           Other  \n",
       "88415      Negative  Female           Other  \n",
       "88416      Negative    Male           Other  \n",
       "88417      Negative  Female           Other  "
      ]
     },
     "execution_count": 511,
     "metadata": {},
     "output_type": "execute_result"
    }
   ],
   "source": [
    "data.head(10)"
   ]
  },
  {
   "cell_type": "code",
   "execution_count": 512,
   "metadata": {},
   "outputs": [],
   "source": [
    "data[['gender']] = encoder.fit_transform(data['gender'].astype(str))\n",
    "data[['test_indication']] = encoder.fit_transform(data['test_indication'].astype(str))\n",
    "data[['corona_result']] = encoder.fit_transform(data['corona_result'].astype(str))"
   ]
  },
  {
   "cell_type": "code",
   "execution_count": 513,
   "metadata": {},
   "outputs": [
    {
     "data": {
      "text/plain": [
       "0    134707\n",
       "1       261\n",
       "Name: corona_result, dtype: int64"
      ]
     },
     "execution_count": 513,
     "metadata": {},
     "output_type": "execute_result"
    }
   ],
   "source": [
    "data['corona_result'].value_counts()"
   ]
  },
  {
   "cell_type": "code",
   "execution_count": 514,
   "metadata": {},
   "outputs": [
    {
     "data": {
      "text/html": [
       "<div>\n",
       "<style scoped>\n",
       "    .dataframe tbody tr th:only-of-type {\n",
       "        vertical-align: middle;\n",
       "    }\n",
       "\n",
       "    .dataframe tbody tr th {\n",
       "        vertical-align: top;\n",
       "    }\n",
       "\n",
       "    .dataframe thead th {\n",
       "        text-align: right;\n",
       "    }\n",
       "</style>\n",
       "<table border=\"1\" class=\"dataframe\">\n",
       "  <thead>\n",
       "    <tr style=\"text-align: right;\">\n",
       "      <th></th>\n",
       "      <th>cough</th>\n",
       "      <th>fever</th>\n",
       "      <th>sore_throat</th>\n",
       "      <th>shortness_of_breath</th>\n",
       "      <th>head_ache</th>\n",
       "      <th>corona_result</th>\n",
       "      <th>gender</th>\n",
       "      <th>test_indication</th>\n",
       "    </tr>\n",
       "  </thead>\n",
       "  <tbody>\n",
       "    <tr>\n",
       "      <th>88408</th>\n",
       "      <td>1</td>\n",
       "      <td>0</td>\n",
       "      <td>0</td>\n",
       "      <td>0</td>\n",
       "      <td>0</td>\n",
       "      <td>0</td>\n",
       "      <td>1</td>\n",
       "      <td>2</td>\n",
       "    </tr>\n",
       "    <tr>\n",
       "      <th>88409</th>\n",
       "      <td>0</td>\n",
       "      <td>0</td>\n",
       "      <td>0</td>\n",
       "      <td>0</td>\n",
       "      <td>0</td>\n",
       "      <td>0</td>\n",
       "      <td>0</td>\n",
       "      <td>2</td>\n",
       "    </tr>\n",
       "    <tr>\n",
       "      <th>88410</th>\n",
       "      <td>0</td>\n",
       "      <td>0</td>\n",
       "      <td>0</td>\n",
       "      <td>0</td>\n",
       "      <td>0</td>\n",
       "      <td>0</td>\n",
       "      <td>0</td>\n",
       "      <td>2</td>\n",
       "    </tr>\n",
       "    <tr>\n",
       "      <th>88411</th>\n",
       "      <td>0</td>\n",
       "      <td>0</td>\n",
       "      <td>0</td>\n",
       "      <td>0</td>\n",
       "      <td>0</td>\n",
       "      <td>0</td>\n",
       "      <td>0</td>\n",
       "      <td>2</td>\n",
       "    </tr>\n",
       "    <tr>\n",
       "      <th>88412</th>\n",
       "      <td>0</td>\n",
       "      <td>0</td>\n",
       "      <td>0</td>\n",
       "      <td>0</td>\n",
       "      <td>0</td>\n",
       "      <td>0</td>\n",
       "      <td>1</td>\n",
       "      <td>2</td>\n",
       "    </tr>\n",
       "  </tbody>\n",
       "</table>\n",
       "</div>"
      ],
      "text/plain": [
       "       cough  fever  sore_throat  shortness_of_breath  head_ache  \\\n",
       "88408      1      0            0                    0          0   \n",
       "88409      0      0            0                    0          0   \n",
       "88410      0      0            0                    0          0   \n",
       "88411      0      0            0                    0          0   \n",
       "88412      0      0            0                    0          0   \n",
       "\n",
       "       corona_result  gender  test_indication  \n",
       "88408              0       1                2  \n",
       "88409              0       0                2  \n",
       "88410              0       0                2  \n",
       "88411              0       0                2  \n",
       "88412              0       1                2  "
      ]
     },
     "execution_count": 514,
     "metadata": {},
     "output_type": "execute_result"
    }
   ],
   "source": [
    "data.head()"
   ]
  },
  {
   "cell_type": "code",
   "execution_count": 515,
   "metadata": {},
   "outputs": [
    {
     "data": {
      "text/plain": [
       "cough                  int64\n",
       "fever                  int64\n",
       "sore_throat            int64\n",
       "shortness_of_breath    int64\n",
       "head_ache              int64\n",
       "corona_result          int32\n",
       "gender                 int32\n",
       "test_indication        int32\n",
       "dtype: object"
      ]
     },
     "execution_count": 515,
     "metadata": {},
     "output_type": "execute_result"
    }
   ],
   "source": [
    "data.dtypes"
   ]
  },
  {
   "cell_type": "code",
   "execution_count": 516,
   "metadata": {},
   "outputs": [
    {
     "data": {
      "text/html": [
       "<div>\n",
       "<style scoped>\n",
       "    .dataframe tbody tr th:only-of-type {\n",
       "        vertical-align: middle;\n",
       "    }\n",
       "\n",
       "    .dataframe tbody tr th {\n",
       "        vertical-align: top;\n",
       "    }\n",
       "\n",
       "    .dataframe thead th {\n",
       "        text-align: right;\n",
       "    }\n",
       "</style>\n",
       "<table border=\"1\" class=\"dataframe\">\n",
       "  <thead>\n",
       "    <tr style=\"text-align: right;\">\n",
       "      <th></th>\n",
       "      <th>cough</th>\n",
       "      <th>fever</th>\n",
       "      <th>sore_throat</th>\n",
       "      <th>shortness_of_breath</th>\n",
       "      <th>head_ache</th>\n",
       "      <th>corona_result</th>\n",
       "      <th>gender</th>\n",
       "      <th>test_indication</th>\n",
       "    </tr>\n",
       "  </thead>\n",
       "  <tbody>\n",
       "    <tr>\n",
       "      <th>count</th>\n",
       "      <td>134968.000000</td>\n",
       "      <td>134968.000000</td>\n",
       "      <td>134968.000000</td>\n",
       "      <td>134968.000000</td>\n",
       "      <td>134968.000000</td>\n",
       "      <td>134968.000000</td>\n",
       "      <td>134968.000000</td>\n",
       "      <td>134968.000000</td>\n",
       "    </tr>\n",
       "    <tr>\n",
       "      <th>mean</th>\n",
       "      <td>0.018464</td>\n",
       "      <td>0.013529</td>\n",
       "      <td>0.004935</td>\n",
       "      <td>0.001497</td>\n",
       "      <td>0.008832</td>\n",
       "      <td>0.001934</td>\n",
       "      <td>0.472134</td>\n",
       "      <td>1.972994</td>\n",
       "    </tr>\n",
       "    <tr>\n",
       "      <th>std</th>\n",
       "      <td>0.134621</td>\n",
       "      <td>0.115526</td>\n",
       "      <td>0.070073</td>\n",
       "      <td>0.038658</td>\n",
       "      <td>0.093562</td>\n",
       "      <td>0.043933</td>\n",
       "      <td>0.499225</td>\n",
       "      <td>0.182283</td>\n",
       "    </tr>\n",
       "    <tr>\n",
       "      <th>min</th>\n",
       "      <td>0.000000</td>\n",
       "      <td>0.000000</td>\n",
       "      <td>0.000000</td>\n",
       "      <td>0.000000</td>\n",
       "      <td>0.000000</td>\n",
       "      <td>0.000000</td>\n",
       "      <td>0.000000</td>\n",
       "      <td>0.000000</td>\n",
       "    </tr>\n",
       "    <tr>\n",
       "      <th>25%</th>\n",
       "      <td>0.000000</td>\n",
       "      <td>0.000000</td>\n",
       "      <td>0.000000</td>\n",
       "      <td>0.000000</td>\n",
       "      <td>0.000000</td>\n",
       "      <td>0.000000</td>\n",
       "      <td>0.000000</td>\n",
       "      <td>2.000000</td>\n",
       "    </tr>\n",
       "    <tr>\n",
       "      <th>50%</th>\n",
       "      <td>0.000000</td>\n",
       "      <td>0.000000</td>\n",
       "      <td>0.000000</td>\n",
       "      <td>0.000000</td>\n",
       "      <td>0.000000</td>\n",
       "      <td>0.000000</td>\n",
       "      <td>0.000000</td>\n",
       "      <td>2.000000</td>\n",
       "    </tr>\n",
       "    <tr>\n",
       "      <th>75%</th>\n",
       "      <td>0.000000</td>\n",
       "      <td>0.000000</td>\n",
       "      <td>0.000000</td>\n",
       "      <td>0.000000</td>\n",
       "      <td>0.000000</td>\n",
       "      <td>0.000000</td>\n",
       "      <td>1.000000</td>\n",
       "      <td>2.000000</td>\n",
       "    </tr>\n",
       "    <tr>\n",
       "      <th>max</th>\n",
       "      <td>1.000000</td>\n",
       "      <td>1.000000</td>\n",
       "      <td>1.000000</td>\n",
       "      <td>1.000000</td>\n",
       "      <td>1.000000</td>\n",
       "      <td>1.000000</td>\n",
       "      <td>1.000000</td>\n",
       "      <td>2.000000</td>\n",
       "    </tr>\n",
       "  </tbody>\n",
       "</table>\n",
       "</div>"
      ],
      "text/plain": [
       "               cough          fever    sore_throat  shortness_of_breath  \\\n",
       "count  134968.000000  134968.000000  134968.000000        134968.000000   \n",
       "mean        0.018464       0.013529       0.004935             0.001497   \n",
       "std         0.134621       0.115526       0.070073             0.038658   \n",
       "min         0.000000       0.000000       0.000000             0.000000   \n",
       "25%         0.000000       0.000000       0.000000             0.000000   \n",
       "50%         0.000000       0.000000       0.000000             0.000000   \n",
       "75%         0.000000       0.000000       0.000000             0.000000   \n",
       "max         1.000000       1.000000       1.000000             1.000000   \n",
       "\n",
       "           head_ache  corona_result         gender  test_indication  \n",
       "count  134968.000000  134968.000000  134968.000000    134968.000000  \n",
       "mean        0.008832       0.001934       0.472134         1.972994  \n",
       "std         0.093562       0.043933       0.499225         0.182283  \n",
       "min         0.000000       0.000000       0.000000         0.000000  \n",
       "25%         0.000000       0.000000       0.000000         2.000000  \n",
       "50%         0.000000       0.000000       0.000000         2.000000  \n",
       "75%         0.000000       0.000000       1.000000         2.000000  \n",
       "max         1.000000       1.000000       1.000000         2.000000  "
      ]
     },
     "execution_count": 516,
     "metadata": {},
     "output_type": "execute_result"
    }
   ],
   "source": [
    "data.describe()"
   ]
  },
  {
   "cell_type": "code",
   "execution_count": 517,
   "metadata": {},
   "outputs": [
    {
     "data": {
      "text/html": [
       "<div>\n",
       "<style scoped>\n",
       "    .dataframe tbody tr th:only-of-type {\n",
       "        vertical-align: middle;\n",
       "    }\n",
       "\n",
       "    .dataframe tbody tr th {\n",
       "        vertical-align: top;\n",
       "    }\n",
       "\n",
       "    .dataframe thead th {\n",
       "        text-align: right;\n",
       "    }\n",
       "</style>\n",
       "<table border=\"1\" class=\"dataframe\">\n",
       "  <thead>\n",
       "    <tr style=\"text-align: right;\">\n",
       "      <th></th>\n",
       "      <th>missing_values</th>\n",
       "      <th>percent_missing %</th>\n",
       "    </tr>\n",
       "  </thead>\n",
       "  <tbody>\n",
       "    <tr>\n",
       "      <th>cough</th>\n",
       "      <td>0</td>\n",
       "      <td>0.0</td>\n",
       "    </tr>\n",
       "    <tr>\n",
       "      <th>fever</th>\n",
       "      <td>0</td>\n",
       "      <td>0.0</td>\n",
       "    </tr>\n",
       "    <tr>\n",
       "      <th>sore_throat</th>\n",
       "      <td>0</td>\n",
       "      <td>0.0</td>\n",
       "    </tr>\n",
       "    <tr>\n",
       "      <th>shortness_of_breath</th>\n",
       "      <td>0</td>\n",
       "      <td>0.0</td>\n",
       "    </tr>\n",
       "    <tr>\n",
       "      <th>head_ache</th>\n",
       "      <td>0</td>\n",
       "      <td>0.0</td>\n",
       "    </tr>\n",
       "    <tr>\n",
       "      <th>corona_result</th>\n",
       "      <td>0</td>\n",
       "      <td>0.0</td>\n",
       "    </tr>\n",
       "    <tr>\n",
       "      <th>gender</th>\n",
       "      <td>0</td>\n",
       "      <td>0.0</td>\n",
       "    </tr>\n",
       "    <tr>\n",
       "      <th>test_indication</th>\n",
       "      <td>0</td>\n",
       "      <td>0.0</td>\n",
       "    </tr>\n",
       "  </tbody>\n",
       "</table>\n",
       "</div>"
      ],
      "text/plain": [
       "                     missing_values   percent_missing %\n",
       "cough                              0                0.0\n",
       "fever                              0                0.0\n",
       "sore_throat                        0                0.0\n",
       "shortness_of_breath                0                0.0\n",
       "head_ache                          0                0.0\n",
       "corona_result                      0                0.0\n",
       "gender                             0                0.0\n",
       "test_indication                    0                0.0"
      ]
     },
     "execution_count": 517,
     "metadata": {},
     "output_type": "execute_result"
    }
   ],
   "source": [
    "missing_values=data.isnull().sum()\n",
    "\n",
    "percent_missing = data.isnull().sum()/data.shape[0]*100\n",
    "\n",
    "value = {\n",
    "    'missing_values ':missing_values,\n",
    "    'percent_missing %':percent_missing  \n",
    "}\n",
    "frame=pd.DataFrame(value)\n",
    "frame"
   ]
  },
  {
   "cell_type": "markdown",
   "metadata": {},
   "source": [
    "# 4.Data Visualisation"
   ]
  },
  {
   "cell_type": "code",
   "execution_count": 518,
   "metadata": {},
   "outputs": [
    {
     "data": {
      "image/png": "[encoded data removed]",
      "text/plain": [
       "<Figure size 576x432 with 2 Axes>"
      ]
     },
     "metadata": {
      "needs_background": "light"
     },
     "output_type": "display_data"
    }
   ],
   "source": [
    "corrmat=data.corr()\n",
    "top_corr_feature=corrmat.index\n",
    "plt.figure(figsize=(8,6))\n",
    "g=sns.heatmap(data[top_corr_feature].corr(),annot=True,cmap='RdYlGn')"
   ]
  },
  {
   "cell_type": "code",
   "execution_count": 519,
   "metadata": {},
   "outputs": [
    {
     "data": {
      "text/plain": [
       "cough                  0.050338\n",
       "fever                  0.078056\n",
       "sore_throat            0.061883\n",
       "shortness_of_breath    0.041922\n",
       "head_ache              0.075157\n",
       "corona_result          1.000000\n",
       "gender                 0.005328\n",
       "test_indication       -0.139662\n",
       "dtype: float64"
      ]
     },
     "execution_count": 519,
     "metadata": {},
     "output_type": "execute_result"
    },
    {
     "data": {
      "text/plain": [
       "<Figure size 1440x864 with 0 Axes>"
      ]
     },
     "metadata": {},
     "output_type": "display_data"
    }
   ],
   "source": [
    "plt.figure(figsize=(20,12))\n",
    "data.corrwith(data['corona_result'])"
   ]
  },
  {
   "cell_type": "code",
   "execution_count": 520,
   "metadata": {},
   "outputs": [
    {
     "name": "stdout",
     "output_type": "stream",
     "text": [
      "Negative(0): 134707\n",
      "Positive(1): 261\n"
     ]
    },
    {
     "data": {
      "image/png": "[encoded data removed]",
      "text/plain": [
       "<Figure size 720x360 with 2 Axes>"
      ]
     },
     "metadata": {
      "needs_background": "light"
     },
     "output_type": "display_data"
    }
   ],
   "source": [
    "f,ax=plt.subplots(1,2,figsize=(10,5))\n",
    "data['corona_result'].value_counts().plot.pie(explode=[0,0.1],autopct='%1.1f%%',ax=ax[0],shadow=True)\n",
    "ax[0].set_title('corona_result')\n",
    "ax[0].set_ylabel('')\n",
    "sns.countplot('corona_result',data=data,ax=ax[1])\n",
    "ax[1].set_title('corona_result')\n",
    "N,P=data['corona_result'].value_counts()\n",
    "print('Negative(0):',N)\n",
    "print('Positive(1):',P)\n",
    "plt.show()"
   ]
  },
  {
   "cell_type": "code",
   "execution_count": 521,
   "metadata": {},
   "outputs": [
    {
     "data": {
      "image/png": "[encoded data removed]",
      "text/plain": [
       "<Figure size 720x576 with 9 Axes>"
      ]
     },
     "metadata": {
      "needs_background": "light"
     },
     "output_type": "display_data"
    }
   ],
   "source": [
    "data.hist(bins=4,figsize=(10,8))\n",
    "plt.show()"
   ]
  },
  {
   "cell_type": "markdown",
   "metadata": {},
   "source": [
    "# 5. Under Sampling"
   ]
  },
  {
   "cell_type": "code",
   "execution_count": 522,
   "metadata": {},
   "outputs": [
    {
     "name": "stdout",
     "output_type": "stream",
     "text": [
      "261\n"
     ]
    }
   ],
   "source": [
    "minority_class_len=len(data[data['corona_result']==1])\n",
    "print(minority_class_len)"
   ]
  },
  {
   "cell_type": "code",
   "execution_count": 523,
   "metadata": {},
   "outputs": [
    {
     "name": "stdout",
     "output_type": "stream",
     "text": [
      "Int64Index([ 88408,  88409,  88410,  88411,  88412,  88413,  88414,  88415,\n",
      "             88416,  88417,\n",
      "            ...\n",
      "            240300, 240301, 240302, 240303, 240304, 240305, 240306, 240307,\n",
      "            240308, 240309],\n",
      "           dtype='int64', length=134707)\n"
     ]
    }
   ],
   "source": [
    "majority_class_indices=data[data['corona_result']==0].index\n",
    "print(majority_class_indices)"
   ]
  },
  {
   "cell_type": "code",
   "execution_count": 524,
   "metadata": {},
   "outputs": [
    {
     "name": "stdout",
     "output_type": "stream",
     "text": [
      "261\n"
     ]
    }
   ],
   "source": [
    "np.random.seed(7)\n",
    "random_majority_indices=np.random.choice(majority_class_indices,minority_class_len,replace=False)\n",
    "print(len(random_majority_indices))"
   ]
  },
  {
   "cell_type": "code",
   "execution_count": 525,
   "metadata": {},
   "outputs": [
    {
     "name": "stdout",
     "output_type": "stream",
     "text": [
      "Int64Index([ 88926,  88993,  88997,  89030,  89037,  89058,  89060,  89114,\n",
      "             89145,  89158,\n",
      "            ...\n",
      "            239750, 239761, 239773, 239777, 239811, 239812, 239821, 239822,\n",
      "            239826, 239830],\n",
      "           dtype='int64', length=261)\n"
     ]
    }
   ],
   "source": [
    "minority_class_indices=data[data['corona_result']==1].index\n",
    "print(minority_class_indices)"
   ]
  },
  {
   "cell_type": "code",
   "execution_count": 526,
   "metadata": {},
   "outputs": [],
   "source": [
    "under_sample_indices=np.concatenate([minority_class_indices,random_majority_indices])"
   ]
  },
  {
   "cell_type": "code",
   "execution_count": 527,
   "metadata": {},
   "outputs": [],
   "source": [
    "under_sample=data.loc[under_sample_indices]"
   ]
  },
  {
   "cell_type": "code",
   "execution_count": 528,
   "metadata": {},
   "outputs": [
    {
     "data": {
      "text/plain": [
       "(522, 8)"
      ]
     },
     "execution_count": 528,
     "metadata": {},
     "output_type": "execute_result"
    }
   ],
   "source": [
    "under_sample.shape"
   ]
  },
  {
   "cell_type": "code",
   "execution_count": 529,
   "metadata": {},
   "outputs": [
    {
     "data": {
      "text/plain": [
       "<AxesSubplot:xlabel='corona_result', ylabel='count'>"
      ]
     },
     "execution_count": 529,
     "metadata": {},
     "output_type": "execute_result"
    },
    {
     "data": {
      "image/png": "[encoded data removed]",
      "text/plain": [
       "<Figure size 432x288 with 1 Axes>"
      ]
     },
     "metadata": {
      "needs_background": "light"
     },
     "output_type": "display_data"
    }
   ],
   "source": [
    "sns.countplot(x='corona_result',data=under_sample)"
   ]
  },
  {
   "cell_type": "code",
   "execution_count": 530,
   "metadata": {},
   "outputs": [],
   "source": [
    "X=under_sample.drop('corona_result',axis=1)\n",
    "y=under_sample['corona_result']"
   ]
  },
  {
   "cell_type": "code",
   "execution_count": 531,
   "metadata": {},
   "outputs": [
    {
     "data": {
      "text/plain": [
       "(522, 7)"
      ]
     },
     "execution_count": 531,
     "metadata": {},
     "output_type": "execute_result"
    }
   ],
   "source": [
    "X.shape"
   ]
  },
  {
   "cell_type": "code",
   "execution_count": 532,
   "metadata": {},
   "outputs": [
    {
     "data": {
      "text/plain": [
       "(522,)"
      ]
     },
     "execution_count": 532,
     "metadata": {},
     "output_type": "execute_result"
    }
   ],
   "source": [
    "y.shape"
   ]
  },
  {
   "cell_type": "code",
   "execution_count": 533,
   "metadata": {},
   "outputs": [],
   "source": [
    "X_train, X_test, y_train, y_test = train_test_split(X, y, test_size = 0.20,random_state=10)"
   ]
  },
  {
   "cell_type": "markdown",
   "metadata": {},
   "source": [
    "# 6.Different Training Models"
   ]
  },
  {
   "cell_type": "markdown",
   "metadata": {},
   "source": [
    "6.1 LOGISTIC REGRESSION"
   ]
  },
  {
   "cell_type": "code",
   "execution_count": 534,
   "metadata": {},
   "outputs": [
    {
     "name": "stdout",
     "output_type": "stream",
     "text": [
      "*******PERFORMANCE DETAILS OF LOGISTIC REGRESSION********\n",
      "\n",
      "              precision    recall  f1-score   support\n",
      "\n",
      "           0       0.84      1.00      0.91        58\n",
      "           1       1.00      0.77      0.87        47\n",
      "\n",
      "    accuracy                           0.90       105\n",
      "   macro avg       0.92      0.88      0.89       105\n",
      "weighted avg       0.91      0.90      0.89       105\n",
      "\n",
      "0.8952380952380953\n"
     ]
    },
    {
     "data": {
      "image/png": "[encoded data removed]",
      "text/plain": [
       "<Figure size 432x288 with 2 Axes>"
      ]
     },
     "metadata": {
      "needs_background": "light"
     },
     "output_type": "display_data"
    }
   ],
   "source": [
    "from sklearn.linear_model import LogisticRegression\n",
    "model = LogisticRegression(C=0.0001, max_iter=100, penalty='none', solver='newton-cg')\n",
    "model.fit(X_train, y_train)\n",
    "y_pred=model.predict(X_test)\n",
    "acc_lr=accuracy_score(y_test,y_pred)\n",
    "recall_lr = rs(y_test,y_pred)\n",
    "precision_lr = ps(y_test,y_pred)\n",
    "f1_lr = fs(y_test,y_pred)\n",
    "print('*******PERFORMANCE DETAILS OF LOGISTIC REGRESSION********\\n')\n",
    "print(classification_report(y_test,y_pred))\n",
    "cf_matrix=confusion_matrix(y_test,y_pred)\n",
    "plt.figure(figsize=(6,4))\n",
    "ax =sns.heatmap(cf_matrix,annot=True)\n",
    "ax.set(title=\"logistic regression\", xlabel=\"predicted label\", ylabel=\"true label\",)\n",
    "sns.set(font_scale=1)\n",
    "print(acc_lr)"
   ]
  },
  {
   "cell_type": "markdown",
   "metadata": {},
   "source": [
    "6.2 RANDOM FOREST CLASSIFIER"
   ]
  },
  {
   "cell_type": "code",
   "execution_count": 535,
   "metadata": {},
   "outputs": [
    {
     "name": "stdout",
     "output_type": "stream",
     "text": [
      "*******PERFORMANCE DETAILS OF RANDOM FOREST CLASSIFIER********\n",
      "\n",
      "              precision    recall  f1-score   support\n",
      "\n",
      "           0       0.85      1.00      0.92        58\n",
      "           1       1.00      0.79      0.88        47\n",
      "\n",
      "    accuracy                           0.90       105\n",
      "   macro avg       0.93      0.89      0.90       105\n",
      "weighted avg       0.92      0.90      0.90       105\n",
      "\n",
      "0.9047619047619048\n"
     ]
    },
    {
     "data": {
      "image/png": "[encoded data removed]",
      "text/plain": [
       "<Figure size 432x288 with 2 Axes>"
      ]
     },
     "metadata": {},
     "output_type": "display_data"
    }
   ],
   "source": [
    "from sklearn.ensemble import RandomForestClassifier\n",
    "Classifier=RandomForestClassifier(criterion='gini',bootstrap=True,max_depth=3,min_samples_split=2,max_features='sqrt',n_estimators=10)\n",
    "Classifier.fit(X_train,y_train)\n",
    "y_pred=Classifier.predict(X_test)\n",
    "acc_RF=accuracy_score(y_test,y_pred)  #min_samples_leaf=1 '\n",
    "recall_RF = rs(y_test,y_pred)\n",
    "precision_RF = ps(y_test,y_pred)\n",
    "f1_RF = fs(y_test,y_pred)\n",
    "print('*******PERFORMANCE DETAILS OF RANDOM FOREST CLASSIFIER********\\n')\n",
    "print(classification_report(y_test,y_pred))\n",
    "cf_matrix=confusion_matrix(y_test,y_pred)\n",
    "plt.figure(figsize=(6,4))\n",
    "ax =sns.heatmap(cf_matrix,annot=True)\n",
    "ax.set(title=\"random forest\", xlabel=\"predicted label\", ylabel=\"true label\",)\n",
    "sns.set(font_scale=1)\n",
    "print(acc_RF)"
   ]
  },
  {
   "cell_type": "markdown",
   "metadata": {},
   "source": [
    " 6.3 K-NEIGHBORS CLASSIFIER "
   ]
  },
  {
   "cell_type": "code",
   "execution_count": 536,
   "metadata": {},
   "outputs": [
    {
     "name": "stdout",
     "output_type": "stream",
     "text": [
      "*******PERFORMANCE DETAILS OF K-NEIGHBORS CLASSIFIER********\n",
      "\n",
      "              precision    recall  f1-score   support\n",
      "\n",
      "           0       0.82      1.00      0.90        58\n",
      "           1       1.00      0.72      0.84        47\n",
      "\n",
      "    accuracy                           0.88       105\n",
      "   macro avg       0.91      0.86      0.87       105\n",
      "weighted avg       0.90      0.88      0.87       105\n",
      "\n"
     ]
    },
    {
     "data": {
      "image/png": "[encoded data removed]",
      "text/plain": [
       "<Figure size 432x288 with 2 Axes>"
      ]
     },
     "metadata": {},
     "output_type": "display_data"
    }
   ],
   "source": [
    "from sklearn.neighbors import KNeighborsClassifier\n",
    "knn = KNeighborsClassifier(n_neighbors=6, p=3)\n",
    "knn.fit(X_train, y_train)\n",
    "y_pred = knn.predict(X_test)\n",
    "acc_KNN=accuracy_score(y_test,y_pred)\n",
    "recall_KNN = rs(y_test,y_pred)\n",
    "precision_KNN = ps(y_test,y_pred)\n",
    "f1_KNN = fs(y_test,y_pred)\n",
    "print('*******PERFORMANCE DETAILS OF K-NEIGHBORS CLASSIFIER********\\n')\n",
    "print(classification_report(y_test,y_pred))\n",
    "cf_matrix=confusion_matrix(y_test,y_pred)\n",
    "plt.figure(figsize=(6,4))\n",
    "ax =sns.heatmap(cf_matrix,annot=True)\n",
    "ax.set(title=\"k neighbors classifier\",xlabel=\"predicted label\",ylabel=\"true label\",)\n",
    "sns.set(font_scale=1)"
   ]
  },
  {
   "cell_type": "markdown",
   "metadata": {},
   "source": [
    "6.4 SUPPORT VECTOR MACHINE"
   ]
  },
  {
   "cell_type": "code",
   "execution_count": 537,
   "metadata": {},
   "outputs": [
    {
     "name": "stdout",
     "output_type": "stream",
     "text": [
      "*******PERFORMANCE DETAILS OF SUPPORT VECTOR MACHINE********\n",
      "\n",
      "              precision    recall  f1-score   support\n",
      "\n",
      "           0       0.84      1.00      0.91        58\n",
      "           1       1.00      0.77      0.87        47\n",
      "\n",
      "    accuracy                           0.90       105\n",
      "   macro avg       0.92      0.88      0.89       105\n",
      "weighted avg       0.91      0.90      0.89       105\n",
      "\n"
     ]
    },
    {
     "data": {
      "image/png": "[encoded data removed]",
      "text/plain": [
       "<Figure size 432x288 with 2 Axes>"
      ]
     },
     "metadata": {},
     "output_type": "display_data"
    }
   ],
   "source": [
    "from sklearn import svm\n",
    "clf = svm.SVC(C=1,degree=3,kernel='poly')\n",
    "clf.fit(X_train, y_train)\n",
    "y_pred = clf.predict(X_test)\n",
    "acc_SVM=accuracy_score(y_test,y_pred)\n",
    "recall_SVM = rs(y_test,y_pred)\n",
    "precision_SVM = ps(y_test,y_pred)\n",
    "f1_SVM = fs(y_test,y_pred)\n",
    "print('*******PERFORMANCE DETAILS OF SUPPORT VECTOR MACHINE********\\n')\n",
    "print(classification_report(y_test,y_pred))\n",
    "cf_matrix=confusion_matrix(y_test,y_pred)\n",
    "plt.figure(figsize=(6,4))\n",
    "ax =sns.heatmap(cf_matrix,annot=True)\n",
    "ax.set(title=\"support vector machine\", xlabel=\"predicted label\",ylabel=\"true label\",)\n",
    "sns.set(font_scale=1)"
   ]
  },
  {
   "cell_type": "markdown",
   "metadata": {},
   "source": [
    "6.5 GAUSSIAN NAIVE BAYES CLASSIFIER"
   ]
  },
  {
   "cell_type": "code",
   "execution_count": 538,
   "metadata": {},
   "outputs": [
    {
     "name": "stdout",
     "output_type": "stream",
     "text": [
      "*******PERFORMANCE DETAILS OF GAUSSIAN NAIVE BAYES CLASSIFIER********\n",
      "\n",
      "              precision    recall  f1-score   support\n",
      "\n",
      "           0       0.72      1.00      0.83        58\n",
      "           1       1.00      0.51      0.68        47\n",
      "\n",
      "    accuracy                           0.78       105\n",
      "   macro avg       0.86      0.76      0.76       105\n",
      "weighted avg       0.84      0.78      0.76       105\n",
      "\n"
     ]
    },
    {
     "data": {
      "image/png": "[encoded data removed]",
      "text/plain": [
       "<Figure size 432x288 with 2 Axes>"
      ]
     },
     "metadata": {},
     "output_type": "display_data"
    }
   ],
   "source": [
    "from sklearn.naive_bayes import GaussianNB\n",
    "GNB = GaussianNB(var_smoothing=0.1)\n",
    "GNB.fit(X_train,y_train)\n",
    "y_pred=GNB.predict(X_test)\n",
    "acc_GNB=accuracy_score(y_test,y_pred)\n",
    "recall_GNB= rs(y_test,y_pred)\n",
    "precision_GNB = ps(y_test,y_pred)\n",
    "f1_GNB = fs(y_test,y_pred)\n",
    "print('*******PERFORMANCE DETAILS OF GAUSSIAN NAIVE BAYES CLASSIFIER********\\n')\n",
    "print(classification_report(y_test,y_pred))\n",
    "cf_matrix=confusion_matrix(y_test,y_pred)\n",
    "plt.figure(figsize=(6,4))\n",
    "ax =sns.heatmap(cf_matrix,annot=True)\n",
    "ax.set(title=\"gaussian naive bayes\", xlabel=\"predicted label\", ylabel=\"true label\",)\n",
    "sns.set(font_scale=1)"
   ]
  },
  {
   "cell_type": "markdown",
   "metadata": {},
   "source": [
    "6.6 DECISION TREE"
   ]
  },
  {
   "cell_type": "code",
   "execution_count": 539,
   "metadata": {},
   "outputs": [
    {
     "name": "stdout",
     "output_type": "stream",
     "text": [
      "*******PERFORMANCE DETAILS OF DECISION TREE********\n",
      "\n",
      "              precision    recall  f1-score   support\n",
      "\n",
      "           0       0.83      1.00      0.91        58\n",
      "           1       1.00      0.74      0.85        47\n",
      "\n",
      "    accuracy                           0.89       105\n",
      "   macro avg       0.91      0.87      0.88       105\n",
      "weighted avg       0.91      0.89      0.88       105\n",
      "\n"
     ]
    },
    {
     "data": {
      "image/png": "[encoded data removed]",
      "text/plain": [
       "<Figure size 432x288 with 2 Axes>"
      ]
     },
     "metadata": {},
     "output_type": "display_data"
    }
   ],
   "source": [
    "from sklearn import tree\n",
    "t = tree.DecisionTreeClassifier(criterion= 'gini',max_depth=4,min_samples_leaf=3,min_samples_split=2)\n",
    "t.fit(X_train,y_train)\n",
    "y_pred = t.predict(X_test)\n",
    "acc_DT=accuracy_score(y_test,y_pred)\n",
    "recall_DT = rs(y_test,y_pred)\n",
    "precision_DT = ps(y_test,y_pred)\n",
    "f1_DT = fs(y_test,y_pred)\n",
    "print('*******PERFORMANCE DETAILS OF DECISION TREE********\\n')\n",
    "print(classification_report(y_test,y_pred))\n",
    "cf_matrix=confusion_matrix(y_test,y_pred)\n",
    "plt.figure(figsize=(6,4))\n",
    "ax =sns.heatmap(cf_matrix,annot=True)\n",
    "ax.set(title=\"decision tree\",xlabel=\"predicted label\",ylabel=\"true label\",)\n",
    "sns.set(font_scale=1)"
   ]
  },
  {
   "cell_type": "markdown",
   "metadata": {},
   "source": [
    "# 7 Performance Comparision"
   ]
  },
  {
   "cell_type": "code",
   "execution_count": 540,
   "metadata": {
    "scrolled": true
   },
   "outputs": [
    {
     "data": {
      "text/html": [
       "<style  type=\"text/css\" >\n",
       "</style><table id=\"T_4abcbdd0_e1d9_11eb_a56e_646e694996ef\" ><thead>    <tr>        <th class=\"col_heading level0 col0\" >Model</th>        <th class=\"col_heading level0 col1\" >Accuracy</th>        <th class=\"col_heading level0 col2\" >Recall</th>        <th class=\"col_heading level0 col3\" >Precision</th>        <th class=\"col_heading level0 col4\" >F-1 Score</th>    </tr></thead><tbody>\n",
       "                <tr>\n",
       "                                <td id=\"T_4abcbdd0_e1d9_11eb_a56e_646e694996efrow0_col0\" class=\"data row0 col0\" >Gaussian Naive Bayes</td>\n",
       "                        <td id=\"T_4abcbdd0_e1d9_11eb_a56e_646e694996efrow0_col1\" class=\"data row0 col1\" >0.780952</td>\n",
       "                        <td id=\"T_4abcbdd0_e1d9_11eb_a56e_646e694996efrow0_col2\" class=\"data row0 col2\" >0.510638</td>\n",
       "                        <td id=\"T_4abcbdd0_e1d9_11eb_a56e_646e694996efrow0_col3\" class=\"data row0 col3\" >0.780952</td>\n",
       "                        <td id=\"T_4abcbdd0_e1d9_11eb_a56e_646e694996efrow0_col4\" class=\"data row0 col4\" >0.676056</td>\n",
       "            </tr>\n",
       "            <tr>\n",
       "                                <td id=\"T_4abcbdd0_e1d9_11eb_a56e_646e694996efrow1_col0\" class=\"data row1 col0\" >KNN</td>\n",
       "                        <td id=\"T_4abcbdd0_e1d9_11eb_a56e_646e694996efrow1_col1\" class=\"data row1 col1\" >0.876190</td>\n",
       "                        <td id=\"T_4abcbdd0_e1d9_11eb_a56e_646e694996efrow1_col2\" class=\"data row1 col2\" >0.723404</td>\n",
       "                        <td id=\"T_4abcbdd0_e1d9_11eb_a56e_646e694996efrow1_col3\" class=\"data row1 col3\" >1.000000</td>\n",
       "                        <td id=\"T_4abcbdd0_e1d9_11eb_a56e_646e694996efrow1_col4\" class=\"data row1 col4\" >0.839506</td>\n",
       "            </tr>\n",
       "            <tr>\n",
       "                                <td id=\"T_4abcbdd0_e1d9_11eb_a56e_646e694996efrow2_col0\" class=\"data row2 col0\" >Decision Tree</td>\n",
       "                        <td id=\"T_4abcbdd0_e1d9_11eb_a56e_646e694996efrow2_col1\" class=\"data row2 col1\" >0.885714</td>\n",
       "                        <td id=\"T_4abcbdd0_e1d9_11eb_a56e_646e694996efrow2_col2\" class=\"data row2 col2\" >0.744681</td>\n",
       "                        <td id=\"T_4abcbdd0_e1d9_11eb_a56e_646e694996efrow2_col3\" class=\"data row2 col3\" >1.000000</td>\n",
       "                        <td id=\"T_4abcbdd0_e1d9_11eb_a56e_646e694996efrow2_col4\" class=\"data row2 col4\" >0.853659</td>\n",
       "            </tr>\n",
       "            <tr>\n",
       "                                <td id=\"T_4abcbdd0_e1d9_11eb_a56e_646e694996efrow3_col0\" class=\"data row3 col0\" >Logistic Regression</td>\n",
       "                        <td id=\"T_4abcbdd0_e1d9_11eb_a56e_646e694996efrow3_col1\" class=\"data row3 col1\" >0.895238</td>\n",
       "                        <td id=\"T_4abcbdd0_e1d9_11eb_a56e_646e694996efrow3_col2\" class=\"data row3 col2\" >0.765957</td>\n",
       "                        <td id=\"T_4abcbdd0_e1d9_11eb_a56e_646e694996efrow3_col3\" class=\"data row3 col3\" >1.000000</td>\n",
       "                        <td id=\"T_4abcbdd0_e1d9_11eb_a56e_646e694996efrow3_col4\" class=\"data row3 col4\" >0.867470</td>\n",
       "            </tr>\n",
       "            <tr>\n",
       "                                <td id=\"T_4abcbdd0_e1d9_11eb_a56e_646e694996efrow4_col0\" class=\"data row4 col0\" >Support Vector Machines</td>\n",
       "                        <td id=\"T_4abcbdd0_e1d9_11eb_a56e_646e694996efrow4_col1\" class=\"data row4 col1\" >0.895238</td>\n",
       "                        <td id=\"T_4abcbdd0_e1d9_11eb_a56e_646e694996efrow4_col2\" class=\"data row4 col2\" >0.765957</td>\n",
       "                        <td id=\"T_4abcbdd0_e1d9_11eb_a56e_646e694996efrow4_col3\" class=\"data row4 col3\" >1.000000</td>\n",
       "                        <td id=\"T_4abcbdd0_e1d9_11eb_a56e_646e694996efrow4_col4\" class=\"data row4 col4\" >0.867470</td>\n",
       "            </tr>\n",
       "            <tr>\n",
       "                                <td id=\"T_4abcbdd0_e1d9_11eb_a56e_646e694996efrow5_col0\" class=\"data row5 col0\" >Random Forest</td>\n",
       "                        <td id=\"T_4abcbdd0_e1d9_11eb_a56e_646e694996efrow5_col1\" class=\"data row5 col1\" >0.904762</td>\n",
       "                        <td id=\"T_4abcbdd0_e1d9_11eb_a56e_646e694996efrow5_col2\" class=\"data row5 col2\" >0.787234</td>\n",
       "                        <td id=\"T_4abcbdd0_e1d9_11eb_a56e_646e694996efrow5_col3\" class=\"data row5 col3\" >1.000000</td>\n",
       "                        <td id=\"T_4abcbdd0_e1d9_11eb_a56e_646e694996efrow5_col4\" class=\"data row5 col4\" >0.880952</td>\n",
       "            </tr>\n",
       "    </tbody></table>"
      ],
      "text/plain": [
       "<pandas.io.formats.style.Styler at 0x1cd46b6f8e0>"
      ]
     },
     "execution_count": 540,
     "metadata": {},
     "output_type": "execute_result"
    }
   ],
   "source": [
    "models = pd.DataFrame({\n",
    "    'Model': ['Logistic Regression','Random Forest', 'KNN','Support Vector Machines', 'Gaussian Naive Bayes',   \n",
    "              'Decision Tree'],\n",
    "    'Accuracy': [acc_lr, acc_RF, acc_KNN, acc_SVM, acc_GNB, acc_DT],\n",
    "    'Recall'  : [recall_lr,recall_RF,recall_KNN,recall_SVM,recall_GNB,recall_DT],\n",
    "    'Precision':[precision_lr,precision_RF,precision_KNN,precision_SVM,acc_GNB,precision_DT],\n",
    "    'F-1 Score':[f1_lr,f1_RF,f1_KNN,f1_SVM,f1_GNB,f1_DT]})\n",
    "models.sort_values(by='Accuracy', ascending=True).style.hide_index()"
   ]
  },
  {
   "cell_type": "code",
   "execution_count": 541,
   "metadata": {},
   "outputs": [
    {
     "data": {
      "image/png": "[encoded data removed]",
      "text/plain": [
       "<Figure size 576x432 with 1 Axes>"
      ]
     },
     "metadata": {},
     "output_type": "display_data"
    }
   ],
   "source": [
    "fig = plt.figure(figsize=(8,6))\n",
    "\n",
    "plt.plot(['LR','RF', 'KNN','SVM', 'GNB','DT'],[f1_lr,f1_RF,f1_KNN,f1_SVM,f1_GNB,f1_DT],color='purple',marker='D')\n",
    "plt.plot(['LR','RF', 'KNN','SVM', 'GNB','DT'],[acc_lr,acc_RF,acc_KNN,acc_SVM,acc_GNB,acc_DT],color='red',marker='^')\n",
    "plt.plot(['LR','RF', 'KNN','SVM', 'GNB','DT'],[precision_lr,precision_RF,precision_KNN,precision_SVM,acc_GNB,precision_DT],color='blue',marker='s')\n",
    "plt.plot(['LR','RF', 'KNN','SVM', 'GNB','DT'],[recall_lr,recall_RF,recall_KNN,recall_SVM,recall_GNB,recall_DT],color='green',marker='P')\n",
    "plt.legend(('F1 Score','Accuracy','Precision','Recall'))\n",
    "plt.title('Comparison of various models\\' performance')\n",
    "plt.show(fig)"
   ]
  },
  {
   "cell_type": "code",
   "execution_count": 542,
   "metadata": {
    "scrolled": true
   },
   "outputs": [
    {
     "data": {
      "text/plain": [
       "<BarContainer object of 6 artists>"
      ]
     },
     "execution_count": 542,
     "metadata": {},
     "output_type": "execute_result"
    },
    {
     "data": {
      "image/png": "[encoded data removed]",
      "text/plain": [
       "<Figure size 432x288 with 1 Axes>"
      ]
     },
     "metadata": {},
     "output_type": "display_data"
    }
   ],
   "source": [
    "fig = plt.figure(figsize=(6,4))\n",
    "plt.barh(['LR','RF', 'KNN','SVM', 'GNB','DT'],[acc_lr,acc_RF,acc_KNN,acc_SVM,acc_GNB,acc_DT],color=['red','green','purple','orange','Blue'],height=0.4)"
   ]
  },
  {
   "cell_type": "code",
   "execution_count": null,
   "metadata": {},
   "outputs": [],
   "source": []
  },
  {
   "cell_type": "code",
   "execution_count": null,
   "metadata": {},
   "outputs": [],
   "source": []
  }
 ],
 "metadata": {
  "kernelspec": {
   "display_name": "Python 3",
   "language": "python",
   "name": "python3"
  },
  "language_info": {
   "codemirror_mode": {
    "name": "ipython",
    "version": 3
   },
   "file_extension": ".py",
   "mimetype": "text/x-python",
   "name": "python",
   "nbconvert_exporter": "python",
   "pygments_lexer": "ipython3",
   "version": "3.8.5"
  }
 },
 "nbformat": 4,
 "nbformat_minor": 4
}
